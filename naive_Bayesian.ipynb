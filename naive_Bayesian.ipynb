{
  "nbformat": 4,
  "nbformat_minor": 0,
  "metadata": {
    "colab": {
      "provenance": [],
      "authorship_tag": "ABX9TyNihHmqlYhrx78zLkcDRmJ2",
      "include_colab_link": true
    },
    "kernelspec": {
      "name": "python3",
      "display_name": "Python 3"
    },
    "language_info": {
      "name": "python"
    }
  },
  "cells": [
    {
      "cell_type": "markdown",
      "metadata": {
        "id": "view-in-github",
        "colab_type": "text"
      },
      "source": [
        "<a href=\"https://colab.research.google.com/github/Anshikadubeyy/DWM/blob/main/naive_Bayesian.ipynb\" target=\"_parent\"><img src=\"https://colab.research.google.com/assets/colab-badge.svg\" alt=\"Open In Colab\"/></a>"
      ]
    },
    {
      "cell_type": "code",
      "execution_count": null,
      "metadata": {
        "colab": {
          "base_uri": "https://localhost:8080/"
        },
        "id": "SPQJfuw3FavN",
        "outputId": "c2317c3b-5af2-4864-a734-fecc12589bd2"
      },
      "outputs": [
        {
          "output_type": "stream",
          "name": "stdout",
          "text": [
            "[3 3 1 2 2 2 1 0 3 2 3 1 1 2]\n",
            "Temp: [1 1 1 2 0 0 0 2 0 2 2 2 1 2]\n",
            "Play : [0 0 1 1 1 0 1 0 1 1 1 1 1 0]\n",
            "[(3, 1), (3, 1), (1, 1), (2, 2), (2, 0), (2, 0), (1, 0), (0, 2), (3, 0), (2, 2), (3, 2), (1, 2), (1, 1), (2, 2)]\n",
            "Predicted Value: [0]\n"
          ]
        }
      ],
      "source": [
        "# Assigning features and label variables\n",
        "Weather=['Sunny','Sunny','Overcast','Rainy', 'Rainy','Rainy','Overcast',' Sunny','Sunny','Rainy','Sunny','Overcast','Overcast','Rainy']\n",
        "Temp =['Hot','Hot','Hot','Mild','Cool','Cool','Cool','Mild','Cool','Mild','Mild','Mild','Hot','Mild']\n",
        "Play=['No','No','Yes','Yes','Yes','No','Yes','No','Yes','Yes','Yes','Yes','Yes','No']\n",
        "#Import LabelEncoder\n",
        "from sklearn import preprocessing\n",
        "#creating labelEncoder\n",
        "le = preprocessing.LabelEncoder()\n",
        "# Converting string labels into numbers.\n",
        "weather_encoded = le.fit_transform(Weather)\n",
        "print(weather_encoded)\n",
        "# Converting string labels into numbers\n",
        "temp_encoded = le.fit_transform(Temp)\n",
        "label = le.fit_transform(Play)\n",
        "print('Temp:', temp_encoded)\n",
        "print(\"Play :\",label)\n",
        "# Combinig weather and temp into single listof tuples\n",
        "features = [tup for tup in zip(weather_encoded,temp_encoded)]\n",
        "print(features)\n",
        "#Import Gaussian Naive Bayes model\n",
        "from sklearn.naive_bayes import GaussianNB\n",
        "#Create a Gaussian Classifier\n",
        "model = GaussianNB()\n",
        "# Train the model using the training sets\n",
        "model.fit(features,label)\n",
        "#Predict Output\n",
        "predicted= model.predict([[0,2]]) # 0:Overcast,2:Mild\n",
        "print(\"Predicted Value:\", predicted)"
      ]
    }
  ]
}